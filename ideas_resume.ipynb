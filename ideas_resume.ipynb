{
 "cells": [
  {
   "cell_type": "markdown",
   "metadata": {},
   "source": [
    "# Causal Inference\n",
    "\n",
    "Main idea: causal inference and machine/deep learning applied to earth sciences context."
   ]
  },
  {
   "cell_type": "markdown",
   "metadata": {},
   "source": [
    "<br>\n",
    "<br>\n",
    "\n",
    "## Libraries and resources:\n",
    "\n",
    "Causality: Tools\n",
    "1. Causal inference\n",
    "\n",
    "⭕ Causal inference workflow & methods:\n",
    "\n",
    "🔸 DoWhy (https://lnkd.in/dcZ_YkzV)\n",
    "\n",
    "🔸 Alternative: causallib (https://lnkd.in/dyaFQzYy)\n",
    "\n",
    "\n",
    "⭕ Heterogenous treatment effects:\n",
    "\n",
    "🔸 EconML (https://lnkd.in/dd26gJnc)\n",
    "\n",
    "🔸 Alternative: CausalML (https://lnkd.in/dFwQjXK8)\n",
    "\n",
    "\n",
    "⭕ Quasi-experimental methods:\n",
    "\n",
    "🔸 CausalPy (https://lnkd.in/dHFu-3fj)\n",
    "\n",
    "🔸 Alternatives: tfcausalimpact (https://lnkd.in/dtmCJ4WQ), differences (https://lnkd.in/dZzWuF9b)\n",
    "\n",
    "\n",
    "2. Causal discovery\n",
    "\n",
    "⭕ Causal discovery from tabular and motion data:\n",
    "\n",
    "🔸 gCastle (https://lnkd.in/ezRq5QkS)\n",
    "\n",
    "🔸 Alternatives: CDT (https://lnkd.in/dWbBRVfE), CausalNex (https://lnkd.in/dQtJQVch)\n",
    "\n",
    "\n",
    "⭕ Causal discovery from time series data:\n",
    "\n",
    "🔸 Tigramite (https://lnkd.in/dBS6DVTJ)\n",
    "\n",
    "3. Model evaluation (uplift, heterogenous treatment effects)\n",
    "\n",
    "🔸 uplift-analysis (https://lnkd.in/gewUPqV9)\n",
    "\n",
    "🔸 Alternative: skuplift (https://lnkd.in/dkw_-QJM)\n",
    "\n",
    "\n",
    "4. End-to-end causal discovery & inference:\n",
    "\n",
    "🔸 Causica (https://lnkd.in/dzyESKsy)"
   ]
  },
  {
   "cell_type": "markdown",
   "metadata": {},
   "source": [
    "[Judea Pearl interview](https://www.theatlantic.com/technology/archive/2018/05/machine-learning-is-stuck-on-asking-why/560675/)"
   ]
  },
  {
   "cell_type": "markdown",
   "metadata": {},
   "source": [
    "<br>\n",
    "<br>\n",
    "\n",
    "### Articles:\n",
    "\n",
    "Causality:\n",
    "\n",
    "* Discovering Causal Factors of Drought in Ethiopia\n",
    "* Inferring causation from time series in Earth system sciences\n",
    "\n",
    "General: \n",
    "* Deep learning for twelve hour precipitation forecasts\n",
    "* Nature Machine Intelligence: [Estimating categorical counterfactuals via deep twin networks](https://www.nature.com/articles/s42256-023-00611-x)\n",
    "\n",
    "\n",
    "### Data\n",
    "\n",
    "[ERA5 hourly data on single levels from 1940 to present](https://cds.climate.copernicus.eu/cdsapp#!/dataset/reanalysis-era5-single-levels?tab=form)\n",
    "\n",
    "### People\n",
    "\n",
    "* [Jakob Runge](https://scholar.google.com.br/citations?user=wtXVvuUAAAAJ&hl=en&oi=sra)\n",
    "* [Rachel Ifanger Albrecht](https://sites.google.com/iag.usp.br/labnuvens/quem-somos/integrantes-do-labnuvens?authuser=0)"
   ]
  },
  {
   "cell_type": "markdown",
   "metadata": {},
   "source": [
    "<br>\n",
    "<br>\n",
    "\n",
    "## Project Idea 1\n",
    "\n",
    "Precipitation forecast and mechanism discovery with machine/deep learning and causal inference\n",
    "\n",
    "* Part I: Precipitation prediction on a small area (eg. São Paulo city) via machine/deep learning algorithms;\n",
    "* Part II: Precipitation physical mechanism discovery via time series data and causal dicovery algorithms;\n",
    "* Part III: Antropogênic intervention effects on precipitation mechanism (polution, fires, etc.);\n",
    "* Part IV: Machine/deep learning forecasting model interpretation via causal diagrams and other tools. \n",
    "\n",
    "## Project Idea 2\n",
    "\n",
    "Extreme event (storm, hail, tornado) forecast and mechanism discovery with machine/deep learning and causal inference\n",
    "\n",
    "* Part I: Extreme event prediction on a small area (eg. São Paulo city) via machine/deep learning algorithms;\n",
    "* Part II: Extreme event physical mechanism discovery via time series data and causal dicovery algorithms;\n",
    "* Part III: Antropogênic intervention effects on extreme event mechanism (polution, fires, etc.);\n",
    "* Part IV: Machine/deep learning forecasting model interpretation via causal diagrams and other tools. \n",
    "\n",
    "## Project Idea 3\n",
    "\n",
    "Discovering Causal Factors of Drought in Central and Southern Brazil\n",
    "\n",
    "* Part I: Historical data aquisition of drought in Brazil;\n",
    "* Part II: Identification of possible causal factors (Amazon deforestation, climate variables, ENSO cycles);\n",
    "* Part III: Feature engineering and causal discovery;\n",
    "* Part IV: Drought forecasting model fittig via possible causal associated variables.\n",
    "\n",
    "## Project Idea 4\n",
    "\n",
    "Rainforest deforestatioon effect on extreme events worldwide"
   ]
  },
  {
   "cell_type": "code",
   "execution_count": null,
   "metadata": {},
   "outputs": [],
   "source": []
  }
 ],
 "metadata": {
  "kernelspec": {
   "display_name": "Python 3 (ipykernel)",
   "language": "python",
   "name": "python3"
  },
  "language_info": {
   "codemirror_mode": {
    "name": "ipython",
    "version": 3
   },
   "file_extension": ".py",
   "mimetype": "text/x-python",
   "name": "python",
   "nbconvert_exporter": "python",
   "pygments_lexer": "ipython3",
   "version": "3.11.3"
  }
 },
 "nbformat": 4,
 "nbformat_minor": 4
}
