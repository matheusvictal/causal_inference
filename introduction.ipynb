{
 "cells": [
  {
   "cell_type": "markdown",
   "metadata": {},
   "source": [
    "# Introduction to Causal Effects\n",
    "A Crash Course in Causality: Inferring Causal Effects from Observational Data, University of Pennsylvania: https://www.coursera.org/learn/crash-course-in-causality/home\n",
    "\n",
    "\n",
    "# Week 1\n",
    "## Potential Outcomes and Counterfactuals\n",
    "\n",
    "* Potential Outcomes: can be interpreted as \"what outcome would occur if a given treatment was applied\". Hence, it is the outcome we would see under each treatment option.\n",
    "* Counterfactual Outcomes: the outcomes that would have been observed had the treatment been different.\n",
    "\n",
    "Example: imagine a situation that there is a binary treatment $A \\in \\{0,1\\}$ and an outcome $Y^a$. The potential outcomes are $Y^0$ and $Y^1$, which are outcomes related to $A$ value. A counterfactual outcome, in this scenario, would be, given that $A=a$, what yould be the outcome if the tratment had been different, or, if $A=1-a$ what would be the outcome given by $Y^{1-a}$.\n",
    "\n",
    "## Hypothetical Interventions\n",
    "\n",
    "* Manipulable interventions\n",
    "* Not manipulable interventions\n",
    "\n",
    "The **Fundamental Problem of Causal Inference**: we can only see one potential outcome for each person, making it difficult to determine causal effect, since causal effect implies $Y^0 \\neq Y^1$.\n",
    "\n",
    "## Causal Effects\n",
    "\n",
    "Causal effects are related to \"hypothetical worlds\" (hypothetical interventions). In other words, a treatment has a causal effect in an outcome if there is a difference between this outcome and the outcome of the counterfactual. A way of measuring causal effect is the average causal effect, (in a binary treatment case) given by:\n",
    "$$E[Y^1-Y^0]$$\n",
    "Obs.: From the proprieties of expected value, it is worth noting that: \n",
    "$$E[Y^1-Y^0] \\neq E[Y|A=1]-E[Y|A=0]$$\n",
    "\n",
    "## Causal Assumptions\n",
    "\n",
    "To identidy causal effects, it is necessary to make some untestable assumptions. The most common causal assumptions are:\n",
    "* Stable Unit Treatment Value Assumption (SUTVA): no interference, only one version of treatment;\n",
    "* Consistency: The potential outcome under treatment A = a, $Y^a$ is equal to the observed outcome if the actual received treatment is A = a;\n",
    "$$Y=Y^a \\text{ if } A=a, \\forall a$$\n",
    "\n",
    "* Ignorability (no unmeasured counfounders assumption): Given pre-treatment covariates $\\tilde{X}$, treatment assignment is independent from potential outcomes;\n",
    "$$Y^1,Y^0 \\perp \\!\\!\\! \\perp A|\\tilde{X}$$\n",
    "Among units with the same value of $\\tilde{X}$, $A$ is randomly assigned. A way of thinking is if $A$ is dependent from $\\tilde{X}$ and $Y$ is also dependent from $\\tilde{X}$, hence, $Y$ is dependent from $A$.\n",
    "\n",
    "\n",
    "* Positivity: for every set os values of $\\tilde{X}$ treatment assignment was not deterministic.\n",
    "$$P(A=a|\\tilde{X}=\\tilde{x})>0,\\forall\\tilde{x}$$\n",
    "\n",
    "Assumptions will be about observed data: $Y$, $A$ and a set of pre-treatment covariates $\\tilde{X}$.\n",
    "\n",
    "Example: \n",
    "$$E[Y|A=a, \\tilde{X}=\\tilde{x}] \\Rightarrow E[Y^a|A=a, \\tilde{X}=\\tilde{x}]\\Rightarrow E[Y^a|\\tilde{X}=\\tilde{x}]$$\n",
    "\n",
    "## Stratification\n",
    "\n",
    "Under certain causal assumptions, \n",
    "$$E[Y|A=a, \\tilde{X}=\\tilde{x}] = E[Y^a|\\tilde{X}=\\tilde{x}]$$\n",
    "\n",
    "If we want a marginal causal effect, we can average over the probability distribution of $\\tilde{X}$:\n",
    "\n",
    "$$E[Y^a] = \\sum_{\\tilde{\\mathbb X}}^{} E[Y|A=a,\\tilde{X}=\\tilde{x}] \\cdot P(\\tilde{X}=\\tilde{x})$$\n",
    "\n",
    "## Incident User and Active Comparator Designs\n",
    "\n",
    "* Incident user designs restrict the treated population to those newly initiating treatment (aka new user design).\n",
    "* Active Comparator Designs tend to envolve much less counfounding (comparison between different treatments and not between treated and untreated)"
   ]
  },
  {
   "cell_type": "markdown",
   "metadata": {},
   "source": [
    "<br>\n",
    "<br>\n",
    "<br>\n",
    "\n",
    "# Week 2"
   ]
  },
  {
   "cell_type": "code",
   "execution_count": null,
   "metadata": {},
   "outputs": [],
   "source": []
  }
 ],
 "metadata": {
  "kernelspec": {
   "display_name": "R",
   "language": "R",
   "name": "ir"
  },
  "language_info": {
   "codemirror_mode": "r",
   "file_extension": ".r",
   "mimetype": "text/x-r-source",
   "name": "R",
   "pygments_lexer": "r",
   "version": "3.6.1"
  }
 },
 "nbformat": 4,
 "nbformat_minor": 4
}
